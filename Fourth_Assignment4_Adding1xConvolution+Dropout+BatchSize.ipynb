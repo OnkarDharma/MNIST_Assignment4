{
  "nbformat": 4,
  "nbformat_minor": 0,
  "metadata": {
    "colab": {
      "name": "Fourth_Assignment4_Adding1xConvolution+Dropout+BatchSize.ipynb",
      "version": "0.3.2",
      "provenance": [],
      "collapsed_sections": [],
      "toc_visible": true
    },
    "kernelspec": {
      "name": "python3",
      "display_name": "Python 3"
    },
    "accelerator": "GPU"
  },
  "cells": [
    {
      "cell_type": "markdown",
      "metadata": {
        "id": "aNyZv-Ec52ot",
        "colab_type": "text"
      },
      "source": [
        "# **Import Libraries and modules**"
      ]
    },
    {
      "cell_type": "code",
      "metadata": {
        "id": "3m3w1Cw49Zkt",
        "colab_type": "code",
        "outputId": "45e95b58-6059-44c0-b847-a038b96c0055",
        "colab": {
          "base_uri": "https://localhost:8080/",
          "height": 34
        }
      },
      "source": [
        "# https://keras.io/\n",
        "!pip install -q keras\n",
        "import keras"
      ],
      "execution_count": 1,
      "outputs": [
        {
          "output_type": "stream",
          "text": [
            "Using TensorFlow backend.\n"
          ],
          "name": "stderr"
        }
      ]
    },
    {
      "cell_type": "code",
      "metadata": {
        "id": "Eso6UHE080D4",
        "colab_type": "code",
        "colab": {}
      },
      "source": [
        "import numpy as np\n",
        "\n",
        "from keras.models import Sequential\n",
        "from keras.layers import Dense, Dropout, Activation, Flatten, Add\n",
        "from keras.layers import BatchNormalization\n",
        "from keras.layers import Convolution2D, MaxPooling2D\n",
        "from keras.utils import np_utils\n",
        "\n",
        "from keras.datasets import mnist"
      ],
      "execution_count": 0,
      "outputs": []
    },
    {
      "cell_type": "markdown",
      "metadata": {
        "id": "zByEi95J86RD",
        "colab_type": "text"
      },
      "source": [
        "### Load pre-shuffled MNIST data into train and test sets"
      ]
    },
    {
      "cell_type": "code",
      "metadata": {
        "id": "7eRM0QWN83PV",
        "colab_type": "code",
        "colab": {}
      },
      "source": [
        "(X_train, y_train), (X_test, y_test) = mnist.load_data()"
      ],
      "execution_count": 0,
      "outputs": []
    },
    {
      "cell_type": "code",
      "metadata": {
        "id": "4a4Be72j8-ZC",
        "colab_type": "code",
        "outputId": "32a6e657-0173-4d88-a157-69d87b9d67f4",
        "colab": {
          "base_uri": "https://localhost:8080/",
          "height": 303
        }
      },
      "source": [
        "print (X_train.shape)\n",
        "from matplotlib import pyplot as plt\n",
        "%matplotlib inline\n",
        "plt.imshow(X_train[0])"
      ],
      "execution_count": 4,
      "outputs": [
        {
          "output_type": "stream",
          "text": [
            "(60000, 28, 28)\n"
          ],
          "name": "stdout"
        },
        {
          "output_type": "execute_result",
          "data": {
            "text/plain": [
              "<matplotlib.image.AxesImage at 0x7f5d7828c400>"
            ]
          },
          "metadata": {
            "tags": []
          },
          "execution_count": 4
        },
        {
          "output_type": "display_data",
          "data": {
            "image/png": "[encoded data removed]",
            "text/plain": [
              "<Figure size 432x288 with 1 Axes>"
            ]
          },
          "metadata": {
            "tags": []
          }
        }
      ]
    },
    {
      "cell_type": "code",
      "metadata": {
        "id": "dkmprriw9AnZ",
        "colab_type": "code",
        "colab": {}
      },
      "source": [
        "X_train = X_train.reshape(X_train.shape[0], 28, 28,1)\n",
        "X_test = X_test.reshape(X_test.shape[0], 28, 28,1)"
      ],
      "execution_count": 0,
      "outputs": []
    },
    {
      "cell_type": "code",
      "metadata": {
        "id": "X2m4YS4E9CRh",
        "colab_type": "code",
        "colab": {}
      },
      "source": [
        "X_train = X_train.astype('float32')\n",
        "X_test = X_test.astype('float32')\n",
        "X_train /= 255\n",
        "X_test /= 255"
      ],
      "execution_count": 0,
      "outputs": []
    },
    {
      "cell_type": "code",
      "metadata": {
        "id": "0Mn0vAYD9DvB",
        "colab_type": "code",
        "outputId": "a6ce7997-37a1-4e7b-b658-fe524ec951f2",
        "colab": {
          "base_uri": "https://localhost:8080/",
          "height": 34
        }
      },
      "source": [
        "y_train[:10]"
      ],
      "execution_count": 7,
      "outputs": [
        {
          "output_type": "execute_result",
          "data": {
            "text/plain": [
              "array([5, 0, 4, 1, 9, 2, 1, 3, 1, 4], dtype=uint8)"
            ]
          },
          "metadata": {
            "tags": []
          },
          "execution_count": 7
        }
      ]
    },
    {
      "cell_type": "code",
      "metadata": {
        "id": "ZG8JiXR39FHC",
        "colab_type": "code",
        "colab": {}
      },
      "source": [
        "# Convert 1-dimensional class arrays to 10-dimensional class matrices\n",
        "Y_train = np_utils.to_categorical(y_train, 10)\n",
        "Y_test = np_utils.to_categorical(y_test, 10)"
      ],
      "execution_count": 0,
      "outputs": []
    },
    {
      "cell_type": "code",
      "metadata": {
        "id": "fYlFRvKS9HMB",
        "colab_type": "code",
        "outputId": "428c7be6-3abf-4403-d2ee-537bfc351ed2",
        "colab": {
          "base_uri": "https://localhost:8080/",
          "height": 102
        }
      },
      "source": [
        "Y_train[:5]\n"
      ],
      "execution_count": 9,
      "outputs": [
        {
          "output_type": "execute_result",
          "data": {
            "text/plain": [
              "array([[0., 0., 0., 0., 0., 1., 0., 0., 0., 0.],\n",
              "       [1., 0., 0., 0., 0., 0., 0., 0., 0., 0.],\n",
              "       [0., 0., 0., 0., 1., 0., 0., 0., 0., 0.],\n",
              "       [0., 1., 0., 0., 0., 0., 0., 0., 0., 0.],\n",
              "       [0., 0., 0., 0., 0., 0., 0., 0., 0., 1.]], dtype=float32)"
            ]
          },
          "metadata": {
            "tags": []
          },
          "execution_count": 9
        }
      ]
    },
    {
      "cell_type": "code",
      "metadata": {
        "id": "osKqT73Q9JJB",
        "colab_type": "code",
        "outputId": "60d087bb-47a2-432e-cad7-562d6d6bf846",
        "colab": {
          "base_uri": "https://localhost:8080/",
          "height": 173
        }
      },
      "source": [
        "from keras.layers import Activation\n",
        "model = Sequential()\n",
        "\n",
        "model.add(Convolution2D(32, 3, 3, activation='relu', input_shape=(28,28,1)))#3\n",
        "model.add(Convolution2D(16, (3, 3), activation='relu'))#5\n",
        "model.add(MaxPooling2D(pool_size=(2, 2)))#10\n",
        "model.add(Convolution2D(16, 1, activation='relu'))#10\n",
        "model.add(Convolution2D(16, (3, 3), activation='relu'))#12\n",
        "model.add(MaxPooling2D(pool_size=(2, 2)))#24\n",
        "model.add(Convolution2D(16, 1, activation='relu'))#24\n",
        "model.add(Dropout(0.2))\n",
        "model.add(Convolution2D(16, (3, 3), activation='relu'))#26\n",
        "model.add(Dropout(0.1))\n",
        "model.add(Convolution2D(16, (3, 3), activation='relu'))#28\n",
        "model.add(Convolution2D(10, 1))\n",
        "model.add(Flatten())\n",
        "model.add(Activation('softmax'))"
      ],
      "execution_count": 10,
      "outputs": [
        {
          "output_type": "stream",
          "text": [
            "WARNING:tensorflow:From /usr/local/lib/python3.6/dist-packages/tensorflow/python/framework/op_def_library.py:263: colocate_with (from tensorflow.python.framework.ops) is deprecated and will be removed in a future version.\n",
            "Instructions for updating:\n",
            "Colocations handled automatically by placer.\n",
            "WARNING:tensorflow:From /usr/local/lib/python3.6/dist-packages/keras/backend/tensorflow_backend.py:3445: calling dropout (from tensorflow.python.ops.nn_ops) with keep_prob is deprecated and will be removed in a future version.\n",
            "Instructions for updating:\n",
            "Please use `rate` instead of `keep_prob`. Rate should be set to `rate = 1 - keep_prob`.\n"
          ],
          "name": "stdout"
        },
        {
          "output_type": "stream",
          "text": [
            "/usr/local/lib/python3.6/dist-packages/ipykernel_launcher.py:4: UserWarning: Update your `Conv2D` call to the Keras 2 API: `Conv2D(32, (3, 3), activation=\"relu\", input_shape=(28, 28, 1...)`\n",
            "  after removing the cwd from sys.path.\n"
          ],
          "name": "stderr"
        }
      ]
    },
    {
      "cell_type": "code",
      "metadata": {
        "id": "TzdAYg1k9K7Z",
        "colab_type": "code",
        "outputId": "729da273-bbc5-419b-9e64-e4a8f18c7e9c",
        "colab": {
          "base_uri": "https://localhost:8080/",
          "height": 612
        }
      },
      "source": [
        "model.summary()"
      ],
      "execution_count": 11,
      "outputs": [
        {
          "output_type": "stream",
          "text": [
            "_________________________________________________________________\n",
            "Layer (type)                 Output Shape              Param #   \n",
            "=================================================================\n",
            "conv2d_1 (Conv2D)            (None, 26, 26, 32)        320       \n",
            "_________________________________________________________________\n",
            "conv2d_2 (Conv2D)            (None, 24, 24, 16)        4624      \n",
            "_________________________________________________________________\n",
            "max_pooling2d_1 (MaxPooling2 (None, 12, 12, 16)        0         \n",
            "_________________________________________________________________\n",
            "conv2d_3 (Conv2D)            (None, 12, 12, 16)        272       \n",
            "_________________________________________________________________\n",
            "conv2d_4 (Conv2D)            (None, 10, 10, 16)        2320      \n",
            "_________________________________________________________________\n",
            "max_pooling2d_2 (MaxPooling2 (None, 5, 5, 16)          0         \n",
            "_________________________________________________________________\n",
            "conv2d_5 (Conv2D)            (None, 5, 5, 16)          272       \n",
            "_________________________________________________________________\n",
            "dropout_1 (Dropout)          (None, 5, 5, 16)          0         \n",
            "_________________________________________________________________\n",
            "conv2d_6 (Conv2D)            (None, 3, 3, 16)          2320      \n",
            "_________________________________________________________________\n",
            "dropout_2 (Dropout)          (None, 3, 3, 16)          0         \n",
            "_________________________________________________________________\n",
            "conv2d_7 (Conv2D)            (None, 1, 1, 16)          2320      \n",
            "_________________________________________________________________\n",
            "conv2d_8 (Conv2D)            (None, 1, 1, 10)          170       \n",
            "_________________________________________________________________\n",
            "flatten_1 (Flatten)          (None, 10)                0         \n",
            "_________________________________________________________________\n",
            "activation_1 (Activation)    (None, 10)                0         \n",
            "=================================================================\n",
            "Total params: 12,618\n",
            "Trainable params: 12,618\n",
            "Non-trainable params: 0\n",
            "_________________________________________________________________\n"
          ],
          "name": "stdout"
        }
      ]
    },
    {
      "cell_type": "markdown",
      "metadata": {
        "id": "az63ViX1cJLh",
        "colab_type": "text"
      },
      "source": [
        "The model is vanilla model. Using only convolution layer with kernel 3X3 and one Max pooling layer. So Total parameters generated/trained by this model is 51466."
      ]
    },
    {
      "cell_type": "code",
      "metadata": {
        "id": "Zp6SuGrL9M3h",
        "colab_type": "code",
        "colab": {
          "base_uri": "https://localhost:8080/",
          "height": 904
        },
        "outputId": "c98a11c9-5853-4b06-f690-a0d98f99a516"
      },
      "source": [
        "#from keras.callbacks import LearningRateScheduler\n",
        "#from keras.optimizers import Adam\n",
        "#def scheduler(epoch, lr):\n",
        "#  return round(0.003 * 1/(1 + 0.319 * epoch), 10)\n",
        "\n",
        "model.compile(loss='categorical_crossentropy', optimizer='adam', metrics=['accuracy'])\n",
        "model.fit(X_train, Y_train, batch_size=32, nb_epoch=10, verbose=0,validation_data=(X_test, Y_test))\n",
        "model.fit(X_train, Y_train, batch_size=64, nb_epoch=10, verbose=0,validation_data=(X_test, Y_test))\n",
        "model.fit(X_train, Y_train, batch_size=128, nb_epoch=20, verbose=1,validation_data=(X_test, Y_test))#, callbacks=[LearningRateScheduler(scheduler, verbose=1)])"
      ],
      "execution_count": 12,
      "outputs": [
        {
          "output_type": "stream",
          "text": [
            "WARNING:tensorflow:From /usr/local/lib/python3.6/dist-packages/tensorflow/python/ops/math_ops.py:3066: to_int32 (from tensorflow.python.ops.math_ops) is deprecated and will be removed in a future version.\n",
            "Instructions for updating:\n",
            "Use tf.cast instead.\n"
          ],
          "name": "stdout"
        },
        {
          "output_type": "stream",
          "text": [
            "/usr/local/lib/python3.6/dist-packages/ipykernel_launcher.py:3: UserWarning: The `nb_epoch` argument in `fit` has been renamed `epochs`.\n",
            "  This is separate from the ipykernel package so we can avoid doing imports until\n",
            "/usr/local/lib/python3.6/dist-packages/ipykernel_launcher.py:4: UserWarning: The `nb_epoch` argument in `fit` has been renamed `epochs`.\n",
            "  after removing the cwd from sys.path.\n"
          ],
          "name": "stderr"
        },
        {
          "output_type": "stream",
          "text": [
            "Train on 60000 samples, validate on 10000 samples\n",
            "Epoch 1/20\n",
            " 2048/60000 [>.............................] - ETA: 4s - loss: 0.0255 - acc: 0.9932"
          ],
          "name": "stdout"
        },
        {
          "output_type": "stream",
          "text": [
            "/usr/local/lib/python3.6/dist-packages/ipykernel_launcher.py:5: UserWarning: The `nb_epoch` argument in `fit` has been renamed `epochs`.\n",
            "  \"\"\"\n"
          ],
          "name": "stderr"
        },
        {
          "output_type": "stream",
          "text": [
            "60000/60000 [==============================] - 4s 59us/step - loss: 0.0218 - acc: 0.9930 - val_loss: 0.0253 - val_acc: 0.9928\n",
            "Epoch 2/20\n",
            "60000/60000 [==============================] - 3s 57us/step - loss: 0.0219 - acc: 0.9925 - val_loss: 0.0218 - val_acc: 0.9928\n",
            "Epoch 3/20\n",
            "60000/60000 [==============================] - 3s 57us/step - loss: 0.0211 - acc: 0.9928 - val_loss: 0.0241 - val_acc: 0.9930\n",
            "Epoch 4/20\n",
            "60000/60000 [==============================] - 3s 57us/step - loss: 0.0213 - acc: 0.9928 - val_loss: 0.0217 - val_acc: 0.9931\n",
            "Epoch 5/20\n",
            "60000/60000 [==============================] - 3s 57us/step - loss: 0.0211 - acc: 0.9928 - val_loss: 0.0231 - val_acc: 0.9932\n",
            "Epoch 6/20\n",
            "60000/60000 [==============================] - 3s 57us/step - loss: 0.0213 - acc: 0.9929 - val_loss: 0.0261 - val_acc: 0.9918\n",
            "Epoch 7/20\n",
            "60000/60000 [==============================] - 3s 57us/step - loss: 0.0209 - acc: 0.9929 - val_loss: 0.0229 - val_acc: 0.9934\n",
            "Epoch 8/20\n",
            "60000/60000 [==============================] - 3s 57us/step - loss: 0.0211 - acc: 0.9927 - val_loss: 0.0257 - val_acc: 0.9922\n",
            "Epoch 9/20\n",
            "60000/60000 [==============================] - 4s 60us/step - loss: 0.0211 - acc: 0.9929 - val_loss: 0.0224 - val_acc: 0.9930\n",
            "Epoch 10/20\n",
            "60000/60000 [==============================] - 4s 62us/step - loss: 0.0207 - acc: 0.9929 - val_loss: 0.0238 - val_acc: 0.9925\n",
            "Epoch 11/20\n",
            "60000/60000 [==============================] - 4s 61us/step - loss: 0.0198 - acc: 0.9933 - val_loss: 0.0243 - val_acc: 0.9930\n",
            "Epoch 12/20\n",
            "60000/60000 [==============================] - 3s 57us/step - loss: 0.0209 - acc: 0.9928 - val_loss: 0.0229 - val_acc: 0.9927\n",
            "Epoch 13/20\n",
            "60000/60000 [==============================] - 3s 57us/step - loss: 0.0199 - acc: 0.9931 - val_loss: 0.0200 - val_acc: 0.9943\n",
            "Epoch 14/20\n",
            "60000/60000 [==============================] - 3s 56us/step - loss: 0.0201 - acc: 0.9933 - val_loss: 0.0241 - val_acc: 0.9928\n",
            "Epoch 15/20\n",
            "60000/60000 [==============================] - 4s 59us/step - loss: 0.0196 - acc: 0.9935 - val_loss: 0.0251 - val_acc: 0.9927\n",
            "Epoch 16/20\n",
            "60000/60000 [==============================] - 4s 63us/step - loss: 0.0181 - acc: 0.9937 - val_loss: 0.0225 - val_acc: 0.9934\n",
            "Epoch 17/20\n",
            "60000/60000 [==============================] - 4s 59us/step - loss: 0.0183 - acc: 0.9941 - val_loss: 0.0248 - val_acc: 0.9930\n",
            "Epoch 18/20\n",
            "60000/60000 [==============================] - 3s 57us/step - loss: 0.0181 - acc: 0.9939 - val_loss: 0.0224 - val_acc: 0.9925\n",
            "Epoch 19/20\n",
            "60000/60000 [==============================] - 3s 57us/step - loss: 0.0176 - acc: 0.9941 - val_loss: 0.0239 - val_acc: 0.9929\n",
            "Epoch 20/20\n",
            "60000/60000 [==============================] - 3s 57us/step - loss: 0.0182 - acc: 0.9941 - val_loss: 0.0226 - val_acc: 0.9940\n"
          ],
          "name": "stdout"
        },
        {
          "output_type": "execute_result",
          "data": {
            "text/plain": [
              "<keras.callbacks.History at 0x7f5d7825ff60>"
            ]
          },
          "metadata": {
            "tags": []
          },
          "execution_count": 12
        }
      ]
    },
    {
      "cell_type": "markdown",
      "metadata": {
        "id": "6UQvEPhRb_Fr",
        "colab_type": "text"
      },
      "source": [
        "Here Using default adam optimizer and loss function as categorical_crossentropy."
      ]
    },
    {
      "cell_type": "code",
      "metadata": {
        "id": "AtsH-lLk-eLb",
        "colab_type": "code",
        "colab": {
          "base_uri": "https://localhost:8080/",
          "height": 34
        },
        "outputId": "ec0f79ee-9578-4875-e6b3-69e6e24b866c"
      },
      "source": [
        "score = model.evaluate(X_test, Y_test, verbose=0)\n",
        "print(score)"
      ],
      "execution_count": 13,
      "outputs": [
        {
          "output_type": "stream",
          "text": [
            "[0.022638677411426035, 0.994]\n"
          ],
          "name": "stdout"
        }
      ]
    },
    {
      "cell_type": "code",
      "metadata": {
        "id": "OCWoJkwE9suh",
        "colab_type": "code",
        "colab": {}
      },
      "source": [
        "y_pred = model.predict(X_test)"
      ],
      "execution_count": 0,
      "outputs": []
    },
    {
      "cell_type": "code",
      "metadata": {
        "id": "Ym7iCFBm9uBs",
        "colab_type": "code",
        "outputId": "72c8c0b7-6685-4dc3-ba73-3740d0b825c6",
        "colab": {
          "base_uri": "https://localhost:8080/",
          "height": 493
        }
      },
      "source": [
        "print(y_pred[:9])\n",
        "print(y_test[:9])"
      ],
      "execution_count": 15,
      "outputs": [
        {
          "output_type": "stream",
          "text": [
            "[[1.72410287e-14 1.03354825e-10 9.91120608e-09 2.22641100e-10\n",
            "  7.71927688e-14 4.96938636e-11 3.32714758e-20 1.00000000e+00\n",
            "  5.57189538e-15 3.52106982e-10]\n",
            " [6.86011603e-08 5.65854934e-05 9.99943376e-01 9.54115453e-10\n",
            "  6.15193660e-12 4.44691462e-12 8.30905211e-09 2.61944522e-10\n",
            "  3.16441984e-09 9.11495272e-14]\n",
            " [1.48886947e-09 9.99992371e-01 2.97532345e-08 2.85410473e-10\n",
            "  7.45343777e-06 2.21218510e-09 3.10004893e-08 1.39569877e-07\n",
            "  1.06382236e-08 4.37807834e-08]\n",
            " [9.99986410e-01 1.93463889e-09 2.38779512e-06 2.13600804e-09\n",
            "  7.54484697e-10 7.64137731e-09 1.11011077e-05 1.34168815e-10\n",
            "  4.07031457e-08 5.63048026e-08]\n",
            " [2.51557564e-13 6.57866372e-10 6.69668973e-11 4.31359028e-12\n",
            "  1.00000000e+00 4.15447232e-10 3.65598801e-10 3.55344060e-10\n",
            "  6.88776924e-10 5.80731765e-08]\n",
            " [2.18699348e-09 9.99998689e-01 4.70263162e-09 2.33657677e-11\n",
            "  1.27673979e-06 2.15215817e-10 4.61356553e-09 4.74261874e-08\n",
            "  1.01608855e-09 3.18086251e-08]\n",
            " [3.25179204e-16 4.81801210e-10 1.68257864e-13 3.94968476e-12\n",
            "  9.99999881e-01 1.76765791e-09 3.09876670e-15 6.74007481e-08\n",
            "  1.26305508e-08 1.70426517e-08]\n",
            " [5.51453752e-07 1.29287585e-07 5.72344277e-07 2.58818582e-05\n",
            "  1.26975006e-03 5.37469623e-06 1.63837069e-06 4.07444105e-07\n",
            "  2.98989331e-03 9.95705903e-01]\n",
            " [2.34228796e-08 8.17002284e-20 2.33024299e-12 1.30516861e-10\n",
            "  2.35932518e-09 9.97648060e-01 2.07222672e-03 2.22954784e-15\n",
            "  2.33071478e-04 4.66650854e-05]]\n",
            "[7 2 1 0 4 1 4 9 5]\n"
          ],
          "name": "stdout"
        }
      ]
    },
    {
      "cell_type": "code",
      "metadata": {
        "id": "CT--y98_dr2T",
        "colab_type": "code",
        "outputId": "9a8047e2-36bf-429e-8205-f830f1bb8dc5",
        "colab": {
          "base_uri": "https://localhost:8080/",
          "height": 54
        }
      },
      "source": [
        "layer_dict = dict([(layer.name, layer) for layer in model.layers])\n",
        "print(layer_dict)"
      ],
      "execution_count": 16,
      "outputs": [
        {
          "output_type": "stream",
          "text": [
            "{'conv2d_1': <keras.layers.convolutional.Conv2D object at 0x7f5d75a0eac8>, 'conv2d_2': <keras.layers.convolutional.Conv2D object at 0x7f5d75a0ec50>, 'max_pooling2d_1': <keras.layers.pooling.MaxPooling2D object at 0x7f5d75a33b00>, 'conv2d_3': <keras.layers.convolutional.Conv2D object at 0x7f5d75a08160>, 'conv2d_4': <keras.layers.convolutional.Conv2D object at 0x7f5d75a0ef98>, 'max_pooling2d_2': <keras.layers.pooling.MaxPooling2D object at 0x7f5d751fcd68>, 'conv2d_5': <keras.layers.convolutional.Conv2D object at 0x7f5d751e86a0>, 'dropout_1': <keras.layers.core.Dropout object at 0x7f5d751fc7b8>, 'conv2d_6': <keras.layers.convolutional.Conv2D object at 0x7f5d751a7a90>, 'dropout_2': <keras.layers.core.Dropout object at 0x7f5d751a7860>, 'conv2d_7': <keras.layers.convolutional.Conv2D object at 0x7f5d75142f28>, 'conv2d_8': <keras.layers.convolutional.Conv2D object at 0x7f5d75142f60>, 'flatten_1': <keras.layers.core.Flatten object at 0x7f5d751146d8>, 'activation_1': <keras.layers.core.Activation object at 0x7f5d750eae48>}\n"
          ],
          "name": "stdout"
        }
      ]
    },
    {
      "cell_type": "markdown",
      "metadata": {
        "id": "MAUtEILZcyof",
        "colab_type": "text"
      },
      "source": [
        "Showcasing the different filters/channels."
      ]
    },
    {
      "cell_type": "code",
      "metadata": {
        "id": "2GY4Upv4dsUR",
        "colab_type": "code",
        "outputId": "685b7057-e813-4043-dd02-f535c1608f97",
        "colab": {
          "base_uri": "https://localhost:8080/",
          "height": 741
        }
      },
      "source": [
        "import numpy as np\n",
        "from matplotlib import pyplot as plt\n",
        "from keras import backend as K\n",
        "%matplotlib inline\n",
        "# util function to convert a tensor into a valid image\n",
        "def deprocess_image(x):\n",
        "    # normalize tensor: center on 0., ensure std is 0.1\n",
        "    x -= x.mean()\n",
        "    x /= (x.std() + 1e-5)\n",
        "    x *= 0.1\n",
        "\n",
        "    # clip to [0, 1]\n",
        "    x += 0.5\n",
        "    x = np.clip(x, 0, 1)\n",
        "\n",
        "    # convert to RGB array\n",
        "    x *= 255\n",
        "    #x = x.transpose((1, 2, 0))\n",
        "    x = np.clip(x, 0, 255).astype('uint8')\n",
        "    return x\n",
        "\n",
        "def vis_img_in_filter(img = np.array(X_train[2]).reshape((1, 28, 28, 1)).astype(np.float64), \n",
        "                      layer_name = 'conv2d_4'):\n",
        "    layer_output = layer_dict[layer_name].output\n",
        "    img_ascs = list()\n",
        "    for filter_index in range(layer_output.shape[3]):\n",
        "        # build a loss function that maximizes the activation\n",
        "        # of the nth filter of the layer considered\n",
        "        loss = K.mean(layer_output[:, :, :, filter_index])\n",
        "\n",
        "        # compute the gradient of the input picture wrt this loss\n",
        "        grads = K.gradients(loss, model.input)[0]\n",
        "\n",
        "        # normalization trick: we normalize the gradient\n",
        "        grads /= (K.sqrt(K.mean(K.square(grads))) + 1e-5)\n",
        "\n",
        "        # this function returns the loss and grads given the input picture\n",
        "        iterate = K.function([model.input], [loss, grads])\n",
        "\n",
        "        # step size for gradient ascent\n",
        "        step = 5.\n",
        "\n",
        "        img_asc = np.array(img)\n",
        "        # run gradient ascent for 20 steps\n",
        "        for i in range(20):\n",
        "            loss_value, grads_value = iterate([img_asc])\n",
        "            img_asc += grads_value * step\n",
        "\n",
        "        img_asc = img_asc[0]\n",
        "        img_ascs.append(deprocess_image(img_asc).reshape((28, 28)))\n",
        "        \n",
        "    if layer_output.shape[3] >= 35:\n",
        "        plot_x, plot_y = 6, 6\n",
        "    elif layer_output.shape[3] >= 23:\n",
        "        plot_x, plot_y = 4, 6\n",
        "    elif layer_output.shape[3] >= 11:\n",
        "        plot_x, plot_y = 2, 6\n",
        "    else:\n",
        "        plot_x, plot_y = 1, 2\n",
        "    fig, ax = plt.subplots(plot_x, plot_y, figsize = (12, 12))\n",
        "    ax[0, 0].imshow(img.reshape((28, 28)), cmap = 'gray')\n",
        "    ax[0, 0].set_title('Input image')\n",
        "    fig.suptitle('Input image and %s filters' % (layer_name,))\n",
        "    fig.tight_layout(pad = 0.3, rect = [0, 0, 0.9, 0.9])\n",
        "    for (x, y) in [(i, j) for i in range(plot_x) for j in range(plot_y)]:\n",
        "        if x == 0 and y == 0:\n",
        "            continue\n",
        "        ax[x, y].imshow(img_ascs[x * plot_y + y - 1], cmap = 'gray')\n",
        "        ax[x, y].set_title('filter %d' % (x * plot_y + y - 1))\n",
        "\n",
        "vis_img_in_filter()"
      ],
      "execution_count": 17,
      "outputs": [
        {
          "output_type": "display_data",
          "data": {
            "image/png": "[encoded data removed]",
            "text/plain": [
              "<Figure size 864x864 with 12 Axes>"
            ]
          },
          "metadata": {
            "tags": []
          }
        }
      ]
    },
    {
      "cell_type": "code",
      "metadata": {
        "id": "9tvptcn8dxvp",
        "colab_type": "code",
        "colab": {}
      },
      "source": [
        ""
      ],
      "execution_count": 0,
      "outputs": []
    }
  ]
}